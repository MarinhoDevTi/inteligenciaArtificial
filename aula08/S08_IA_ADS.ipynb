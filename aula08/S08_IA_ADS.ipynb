{
  "nbformat": 4,
  "nbformat_minor": 0,
  "metadata": {
    "colab": {
      "provenance": []
    },
    "kernelspec": {
      "name": "python3",
      "display_name": "Python 3"
    },
    "language_info": {
      "name": "python"
    }
  },
  "cells": [
    {
      "cell_type": "markdown",
      "metadata": {
        "id": "tQ0ECUNdnUsW"
      },
      "source": [
        "# **Redes Neurais com Pytorch**\n",
        "---\n",
        "> *André Luiz França Batista*\n",
        "\n",
        "---\n",
        "\n",
        "> **Roteiro**\n",
        "* Problema de classificação da flor Iris\n",
        "\n",
        "---\n"
      ]
    },
    {
      "cell_type": "markdown",
      "source": [
        "# Importar as bibliotecas\n"
      ],
      "metadata": {
        "id": "MtGRTW7Y5qaz"
      }
    },
    {
      "cell_type": "code",
      "metadata": {
        "id": "ASMg2s2jpCHL"
      },
      "source": [
        "import numpy as np\n",
        "import torch\n",
        "import matplotlib.pyplot as plt"
      ],
      "execution_count": null,
      "outputs": []
    },
    {
      "cell_type": "markdown",
      "metadata": {
        "id": "TCT7E08OpwEi"
      },
      "source": [
        "# Classe Net do Pytorch\n",
        "> Criação de um modelo de Rede Neural\n",
        "![picture](https://drive.google.com/uc?export=view&id=1uDRhXxnzGk8QoZHX1oqhmHPuMzxJHQZp)"
      ]
    },
    {
      "cell_type": "code",
      "metadata": {
        "id": "Nj2XDlKFpsfK"
      },
      "source": [
        "# Criar um modelo de Rede Neural\n",
        "class Net(torch.nn.Module):\n",
        "  def __init__(self, input_size, hidden_size):\n",
        "    super(Net, self).__init__()\n",
        "    self.input_size = input_size\n",
        "    self.hidden_size = hidden_size\n",
        "    self.fc1 = torch.nn.Linear(self.input_size, self.hidden_size) #full connected\n",
        "    self.relu = torch.nn.ReLU() #(0, infinito)\n",
        "    self.fc2 = torch.nn.Linear(self.hidden_size, 1)\n",
        "    self.sigmoid = torch.nn.Sigmoid() #(0, 1)\n",
        "  def forward(self, x):\n",
        "    hidden = self.fc1(x)\n",
        "    relu = self.relu(hidden)\n",
        "    output = self.fc2(relu)\n",
        "    output = self.sigmoid(output)\n",
        "    return output"
      ],
      "execution_count": null,
      "outputs": []
    },
    {
      "cell_type": "markdown",
      "metadata": {
        "id": "ga3WbaxIr22U"
      },
      "source": [
        "# Base de dados\n",
        "* sklearn\n",
        "* dataset íris"
      ]
    },
    {
      "cell_type": "code",
      "metadata": {
        "id": "0wRcnUhAqgH7"
      },
      "source": [
        "from sklearn import datasets\n",
        "iris = datasets.load_iris()\n",
        "# data, target, target_names\n",
        "print(iris)\n",
        "dados = iris.data\n",
        "classes = iris.target\n",
        "nomesClasses = iris.target_names"
      ],
      "execution_count": null,
      "outputs": []
    },
    {
      "cell_type": "markdown",
      "metadata": {
        "id": "iNWqGhFBsf_a"
      },
      "source": [
        "# **Preparação dos dados**\n",
        "* Organizar a saída do dataset de três para duas classes\n",
        "* Converter dados para tensor\n",
        "* Embaralhar os dados\n",
        "* Separar os dados em treinamento e teste\n",
        "\n"
      ]
    },
    {
      "cell_type": "markdown",
      "metadata": {
        "id": "o2v4MyWM2Mv5"
      },
      "source": [
        "# Organizar a saída do dataset\n",
        "* Numpy\n",
        "* Função *where*\n",
        "* Transformar três classes em apenas duas."
      ]
    },
    {
      "cell_type": "code",
      "metadata": {
        "id": "NZke8qbv2Wpf"
      },
      "source": [
        "# Converter as classes\n",
        "print(classes)\n",
        "print(nomesClasses)\n",
        "# saida = np.where(condição, true, false)\n",
        "# saida = np.where(classes==2, 1, 0) # virginica\n",
        "saida = np.where(classes==2, 0, classes) #versicolor\n",
        "print(saida)\n",
        "# 0: setosa; 1: versicolor; 2: virginica;\n",
        "# 0: setosa; 0: versicolor; 1: virginica;"
      ],
      "execution_count": null,
      "outputs": []
    },
    {
      "cell_type": "markdown",
      "metadata": {
        "id": "Yq-6P1HPt00i"
      },
      "source": [
        "# Converter para tensor\n",
        "* Formato de dados que o Pytorch trabalha no modelo de Redes Neurais\n",
        "* Normalizar dados entre 0 e 1"
      ]
    },
    {
      "cell_type": "code",
      "metadata": {
        "id": "kSLEakyZt2Vl"
      },
      "source": [
        "# Converter para tensor\n",
        "entrada = torch.FloatTensor(dados) / 10\n",
        "saida = torch.FloatTensor(saida)\n",
        "# print(entrada)\n",
        "# print(torch.max(entrada))\n",
        "# print(saida)"
      ],
      "execution_count": null,
      "outputs": []
    },
    {
      "cell_type": "markdown",
      "metadata": {
        "id": "cKbdYtfls-nq"
      },
      "source": [
        "# Embaralhar os dados\n",
        "* Facilita o treinamento\n",
        "* Facilita a separação entre dados de treinamento e teste"
      ]
    },
    {
      "cell_type": "code",
      "metadata": {
        "id": "q9-pjV1btAY4",
        "colab": {
          "base_uri": "https://localhost:8080/"
        },
        "outputId": "bd56513b-9651-440f-a17f-35d60a794afc"
      },
      "source": [
        "from sklearn.utils import shuffle\n",
        "print(saida)\n",
        "entrada, saida = shuffle(entrada, saida)\n",
        "print(saida)"
      ],
      "execution_count": null,
      "outputs": [
        {
          "output_type": "stream",
          "name": "stdout",
          "text": [
            "tensor([0., 0., 0., 0., 0., 0., 0., 0., 0., 0., 0., 0., 0., 0., 0., 0., 0., 0.,\n",
            "        0., 0., 0., 0., 0., 0., 0., 0., 0., 0., 0., 0., 0., 0., 0., 0., 0., 0.,\n",
            "        0., 0., 0., 0., 0., 0., 0., 0., 0., 0., 0., 0., 0., 0., 1., 1., 1., 1.,\n",
            "        1., 1., 1., 1., 1., 1., 1., 1., 1., 1., 1., 1., 1., 1., 1., 1., 1., 1.,\n",
            "        1., 1., 1., 1., 1., 1., 1., 1., 1., 1., 1., 1., 1., 1., 1., 1., 1., 1.,\n",
            "        1., 1., 1., 1., 1., 1., 1., 1., 1., 1., 0., 0., 0., 0., 0., 0., 0., 0.,\n",
            "        0., 0., 0., 0., 0., 0., 0., 0., 0., 0., 0., 0., 0., 0., 0., 0., 0., 0.,\n",
            "        0., 0., 0., 0., 0., 0., 0., 0., 0., 0., 0., 0., 0., 0., 0., 0., 0., 0.,\n",
            "        0., 0., 0., 0., 0., 0.])\n",
            "tensor([1., 1., 0., 0., 0., 1., 0., 0., 0., 0., 0., 0., 0., 1., 0., 0., 0., 1.,\n",
            "        0., 0., 1., 0., 0., 1., 1., 1., 0., 0., 1., 0., 0., 1., 0., 0., 0., 0.,\n",
            "        0., 1., 0., 1., 1., 0., 0., 0., 0., 1., 0., 0., 1., 1., 1., 1., 0., 0.,\n",
            "        1., 0., 0., 1., 1., 1., 0., 1., 1., 1., 0., 0., 0., 0., 0., 0., 1., 0.,\n",
            "        0., 0., 0., 0., 0., 1., 0., 0., 1., 0., 1., 1., 0., 0., 0., 0., 1., 0.,\n",
            "        1., 0., 0., 0., 0., 1., 0., 0., 0., 0., 0., 0., 1., 0., 0., 0., 1., 1.,\n",
            "        1., 0., 1., 0., 1., 0., 1., 0., 0., 0., 0., 1., 0., 0., 0., 0., 0., 1.,\n",
            "        0., 0., 0., 1., 0., 0., 0., 0., 0., 0., 0., 0., 0., 0., 1., 1., 0., 0.,\n",
            "        1., 1., 1., 0., 0., 1.])\n"
          ]
        }
      ]
    },
    {
      "cell_type": "markdown",
      "metadata": {
        "id": "1w5GPQR2th6a"
      },
      "source": [
        "# Separar os dados em treinamento e teste\n",
        "* Geralmente 80% para treinamento 20% para teste"
      ]
    },
    {
      "cell_type": "code",
      "metadata": {
        "id": "VA3ypvSMtqMx",
        "colab": {
          "base_uri": "https://localhost:8080/"
        },
        "outputId": "df64c938-9b65-49f2-df00-6178dcf8588d"
      },
      "source": [
        "# Separar os dados em treinamento e testes\n",
        "entrada_treinamento = entrada[0:130, :]\n",
        "saida_treinamento = saida[0:130]\n",
        "entrada_testes = entrada[130:150, :]\n",
        "saida_testes = saida[130:150]\n",
        "print(entrada_testes)\n",
        "print(saida_testes)"
      ],
      "execution_count": null,
      "outputs": [
        {
          "output_type": "stream",
          "name": "stdout",
          "text": [
            "tensor([[0.6200, 0.2800, 0.4800, 0.1800],\n",
            "        [0.4800, 0.3000, 0.1400, 0.0100],\n",
            "        [0.7200, 0.3000, 0.5800, 0.1600],\n",
            "        [0.5100, 0.3400, 0.1500, 0.0200],\n",
            "        [0.6300, 0.2900, 0.5600, 0.1800],\n",
            "        [0.4900, 0.2500, 0.4500, 0.1700],\n",
            "        [0.5000, 0.3400, 0.1500, 0.0200],\n",
            "        [0.4400, 0.2900, 0.1400, 0.0200],\n",
            "        [0.6200, 0.3400, 0.5400, 0.2300],\n",
            "        [0.5100, 0.3700, 0.1500, 0.0400],\n",
            "        [0.5000, 0.2300, 0.3300, 0.1000],\n",
            "        [0.4900, 0.2400, 0.3300, 0.1000],\n",
            "        [0.6100, 0.2600, 0.5600, 0.1400],\n",
            "        [0.7700, 0.3000, 0.6100, 0.2300],\n",
            "        [0.6000, 0.2900, 0.4500, 0.1500],\n",
            "        [0.6100, 0.2900, 0.4700, 0.1400],\n",
            "        [0.6100, 0.2800, 0.4000, 0.1300],\n",
            "        [0.5000, 0.3000, 0.1600, 0.0200],\n",
            "        [0.4600, 0.3100, 0.1500, 0.0200],\n",
            "        [0.6900, 0.3100, 0.4900, 0.1500]])\n",
            "tensor([0., 0., 0., 0., 0., 0., 0., 0., 0., 0., 1., 1., 0., 0., 1., 1., 1., 0.,\n",
            "        0., 1.])\n"
          ]
        }
      ]
    },
    {
      "cell_type": "markdown",
      "metadata": {
        "id": "omgQCRK8uxs7"
      },
      "source": [
        "# **Montar o modelo de Redes Neurais**\n",
        "\n",
        "---\n",
        "\n",
        "> Modelo\n",
        "* Classe Net(input_size, hidden_size)\n",
        "* input_size: quantidade de características de cada instância do dataset\n",
        "* hidden_size: a critério do programador. Um bom começo seria: **((input_size + 1) / 2)**\n",
        "\n",
        "---\n",
        "\n",
        "> Configurações do modelo\n",
        "* Critérios de cálculo do erro a cada época de treinamento\n",
        "* Optimizador SGD (Stochastic Gradient Descent): Faz a atualização dos pesos da rede.\n",
        "\n",
        "---\n"
      ]
    },
    {
      "cell_type": "code",
      "metadata": {
        "id": "ci7oUMpYu7zo",
        "colab": {
          "base_uri": "https://localhost:8080/"
        },
        "outputId": "0d1af4bb-05bd-4155-a36b-b8098b34ac56"
      },
      "source": [
        "# Montar o modelo para o treinamento\n",
        "# print(entrada_treinamento.size())\n",
        "input_size = entrada_treinamento.size()[1]\n",
        "hidden_size = 18\n",
        "modelo = Net(input_size, hidden_size)\n",
        "print(modelo)\n",
        "\n",
        "# Configurações do modelo\n",
        "criterion = torch.nn.MSELoss() # Mean Square Error\n",
        "optimizer = torch.optim.SGD(modelo.parameters(), lr = 0.15, momentum = 0.99)"
      ],
      "execution_count": null,
      "outputs": [
        {
          "output_type": "stream",
          "name": "stdout",
          "text": [
            "Net(\n",
            "  (fc1): Linear(in_features=4, out_features=18, bias=True)\n",
            "  (relu): ReLU()\n",
            "  (fc2): Linear(in_features=18, out_features=1, bias=True)\n",
            "  (sigmoid): Sigmoid()\n",
            ")\n"
          ]
        }
      ]
    },
    {
      "cell_type": "markdown",
      "metadata": {
        "id": "uSJbmN-xxC7z"
      },
      "source": [
        "# Treinamento do Modelo\n",
        "> Critérios de parada do treinamento\n",
        "* Quantidade de épocas de treinamento\n",
        "* Erro mínimo alcançado"
      ]
    },
    {
      "cell_type": "code",
      "metadata": {
        "id": "Kctjj0BSxPuB",
        "outputId": "ac030be7-cf1f-473f-e0a4-d905983bbcb7",
        "colab": {
          "base_uri": "https://localhost:8080/"
        }
      },
      "source": [
        "#Treinar o modelo\n",
        "modelo.train()\n",
        "epochs = 10001 # Quantidade de épocas de treinamento\n",
        "\n",
        "errors = [] # Criando um array vazio para guardar os erros de cada epoca\n",
        "\n",
        "for epoch in range(epochs):\n",
        "  optimizer.zero_grad()\n",
        "  # Forward pass\n",
        "  y_pred = modelo(entrada_treinamento)\n",
        "  # Compute Loss\n",
        "  loss = criterion(y_pred.squeeze(), saida_treinamento)\n",
        "  errors.append(loss.item())\n",
        "  if epoch % 1000 == 0:\n",
        "    print('Epoch {}: train loss: {}'.format(epoch, loss.item()))\n",
        "  # Backward pass\n",
        "  loss.backward()\n",
        "  optimizer.step()"
      ],
      "execution_count": null,
      "outputs": [
        {
          "output_type": "stream",
          "name": "stdout",
          "text": [
            "Epoch 0: train loss: 0.23070763051509857\n",
            "Epoch 1000: train loss: 0.011132377199828625\n",
            "Epoch 2000: train loss: 0.009780130349099636\n",
            "Epoch 3000: train loss: 0.008969413116574287\n",
            "Epoch 4000: train loss: 0.008524777367711067\n",
            "Epoch 5000: train loss: 0.008273729123175144\n",
            "Epoch 6000: train loss: 0.008120479993522167\n",
            "Epoch 7000: train loss: 0.008022618480026722\n",
            "Epoch 8000: train loss: 0.007955646142363548\n",
            "Epoch 9000: train loss: 0.007908029481768608\n",
            "Epoch 10000: train loss: 0.00787333119660616\n"
          ]
        }
      ]
    },
    {
      "cell_type": "markdown",
      "metadata": {
        "id": "6EdaK1JXxcmZ"
      },
      "source": [
        "# Testar a rede\n",
        "* Testar a rede com os dados de testes\n",
        "* Dados que a rede não conhece\n",
        "* Visualizar o resultado"
      ]
    },
    {
      "cell_type": "code",
      "metadata": {
        "id": "XDgrL308xb_x",
        "colab": {
          "base_uri": "https://localhost:8080/"
        },
        "outputId": "812f1a8a-3085-432e-8940-f39b4ccdb16d"
      },
      "source": [
        "# Rodar a rede com os dados de teste, os dados que a rede nunca viu\n",
        "modelo.eval()\n",
        "torch.set_printoptions(sci_mode=False)\n",
        "y_pred = modelo(entrada_testes)\n",
        "print(y_pred.squeeze()) # valor previsto pela rede\n",
        "print(saida_testes) # valor real"
      ],
      "execution_count": null,
      "outputs": [
        {
          "output_type": "stream",
          "name": "stdout",
          "text": [
            "tensor([    0.1605,     0.0000,     0.0000,     0.0000,     0.0000,     0.0001,\n",
            "            0.0000,     0.0000,     0.0000,     0.0000,     0.9999,     0.9988,\n",
            "            0.0000,     0.0000,     1.0000,     1.0000,     1.0000,     0.0001,\n",
            "            0.0000,     1.0000], grad_fn=<SqueezeBackward0>)\n",
            "tensor([0., 0., 0., 0., 0., 0., 0., 0., 0., 0., 1., 1., 0., 0., 1., 1., 1., 0.,\n",
            "        0., 1.])\n"
          ]
        }
      ]
    },
    {
      "cell_type": "code",
      "source": [
        "for param in modelo.parameters():\n",
        "  print(param)"
      ],
      "metadata": {
        "colab": {
          "base_uri": "https://localhost:8080/"
        },
        "id": "r6VWhTXna7ya",
        "outputId": "627427e0-2734-4014-dffd-f3a035f1d986"
      },
      "execution_count": null,
      "outputs": [
        {
          "output_type": "stream",
          "name": "stdout",
          "text": [
            "Parameter containing:\n",
            "tensor([[    -0.2432,      0.4809,      0.2130,     -0.2099],\n",
            "        [    -0.1578,      0.2213,      0.0804,      0.0693],\n",
            "        [    -0.2253,     -0.4909,      0.0923,     -0.1443],\n",
            "        [     0.3043,     -0.2573,     -0.1834,     -0.1964],\n",
            "        [    -0.0336,     -0.2663,     -0.4646,     -0.3171],\n",
            "        [    -0.3191,      1.8898,     -6.1491,     -1.8875],\n",
            "        [     6.5025,     -9.3093,     -6.9786,     -6.5069],\n",
            "        [    -0.3394,      1.7921,     -4.1845,     -1.7954],\n",
            "        [    -1.5723,     -5.6899,      8.9935,      6.9755],\n",
            "        [    -0.5361,      3.0791,     -7.6910,     -2.5380],\n",
            "        [    -0.0098,      0.0204,     -0.0783,     -0.4897],\n",
            "        [     0.2299,     -0.3258,     -0.3789,     -0.0186],\n",
            "        [    -2.7008,     -9.6825,     13.7484,     10.5344],\n",
            "        [     1.5148,      2.5419,     -4.0051,     -3.3148],\n",
            "        [    -0.9234,      0.9196,     -1.1270,      0.3412],\n",
            "        [    -0.1252,      0.1729,      0.3476,      0.1070],\n",
            "        [    -0.3340,     -0.2592,     -0.1998,     -0.4651],\n",
            "        [    -0.6273,      2.8815,     -6.3396,     -2.3956]],\n",
            "       requires_grad=True)\n",
            "Parameter containing:\n",
            "tensor([-0.4235, -1.8758,  0.1057, -0.2192, -0.3216,  2.7185,  3.4120,  1.7982,\n",
            "        -2.6443,  3.3140, -0.1154, -0.3415, -3.6830,  1.5247, -1.5153, -0.2530,\n",
            "        -0.0445,  2.7359], requires_grad=True)\n",
            "Parameter containing:\n",
            "tensor([[    -0.4412,     -0.4612,      0.1148,      0.1703,     -0.1062,\n",
            "             -6.4402,     13.9697,     -4.7212,    -12.2653,     -9.1215,\n",
            "             -0.0324,     -0.0146,    -19.3280,      5.0636,     -1.0169,\n",
            "             -0.2030,      0.1240,     -7.4014]], requires_grad=True)\n",
            "Parameter containing:\n",
            "tensor([3.2764], requires_grad=True)\n"
          ]
        }
      ]
    },
    {
      "cell_type": "markdown",
      "metadata": {
        "id": "k2wqgq8Wx2hB"
      },
      "source": [
        "# Gráficos\n",
        "* Gráfico de erro\n",
        "* Gráfico do resultado da classificação"
      ]
    },
    {
      "cell_type": "code",
      "metadata": {
        "id": "wGb-diQix-sY",
        "outputId": "97f38d29-40f0-4662-aed7-6b283e964b08",
        "colab": {
          "base_uri": "https://localhost:8080/",
          "height": 487
        }
      },
      "source": [
        "import matplotlib.pyplot as plt\n",
        "import numpy as np\n",
        "def plotcharts(errors):\n",
        "    errors = np.array(errors)\n",
        "    plt.figure(figsize=(12, 5))\n",
        "    graf02 = plt.subplot(1, 2, 1) # nrows, ncols, index\n",
        "    graf02.set_title('Errors')\n",
        "    plt.plot(errors, '-')\n",
        "    plt.xlabel('Epochs')\n",
        "    graf03 = plt.subplot(1, 2, 2)\n",
        "    graf03.set_title('Tests')\n",
        "    a = plt.plot(saida_testes.numpy(), 'yo', label='Real')\n",
        "    plt.setp(a, markersize=10)\n",
        "    a = plt.plot(y_pred.detach().numpy(), 'b+', label='Predicted')\n",
        "    plt.setp(a, markersize=10)\n",
        "    plt.legend(loc=7)\n",
        "    plt.show()\n",
        "plotcharts(errors)"
      ],
      "execution_count": null,
      "outputs": [
        {
          "output_type": "display_data",
          "data": {
            "text/plain": [
              "<Figure size 1200x500 with 2 Axes>"
            ],
            "image/png": "[encoded data removed]"
          },
          "metadata": {}
        }
      ]
    }
  ]
}