{
  "nbformat": 4,
  "nbformat_minor": 0,
  "metadata": {
    "colab": {
      "provenance": [],
      "include_colab_link": true
    },
    "kernelspec": {
      "name": "python3",
      "display_name": "Python 3"
    },
    "language_info": {
      "name": "python"
    }
  },
  "cells": [
    {
      "cell_type": "markdown",
      "metadata": {
        "id": "view-in-github",
        "colab_type": "text"
      },
      "source": [
        "<a href=\"https://colab.research.google.com/github/MarinhoDevTi/inteligenciaArtificial/blob/main/S06_IA_ADS.ipynb\" target=\"_parent\"><img src=\"https://colab.research.google.com/assets/colab-badge.svg\" alt=\"Open In Colab\"/></a>"
      ]
    },
    {
      "cell_type": "markdown",
      "source": [
        "# Redes neurais artificiais"
      ],
      "metadata": {
        "id": "TAFXo5e3khat"
      }
    },
    {
      "cell_type": "code",
      "execution_count": 1,
      "metadata": {
        "id": "fDFEPT3_keEV"
      },
      "outputs": [],
      "source": [
        "import numpy as np"
      ]
    },
    {
      "cell_type": "code",
      "source": [
        "entrada = np.array([-2, 1, -5, 6])\n",
        "pesos = np.random.rand(entrada.size)"
      ],
      "metadata": {
        "id": "lS9aCnMVtcBK"
      },
      "execution_count": 2,
      "outputs": []
    },
    {
      "cell_type": "code",
      "source": [
        "def soma(e, p):\n",
        "  s = 0\n",
        "  for i in range(e.size):\n",
        "    s += e[i] * p[i]\n",
        "  return s"
      ],
      "metadata": {
        "id": "Btt18ZS7ug5Z"
      },
      "execution_count": 3,
      "outputs": []
    },
    {
      "cell_type": "code",
      "source": [
        "resultado1 = soma(entrada, pesos)\n",
        "resultado2 = np.dot(entrada, pesos)\n",
        "print(resultado1, resultado2)"
      ],
      "metadata": {
        "colab": {
          "base_uri": "https://localhost:8080/"
        },
        "id": "eqCQGNHzvdW5",
        "outputId": "a66c7cde-b262-4eaa-9844-85e8cd8a02d6"
      },
      "execution_count": 4,
      "outputs": [
        {
          "output_type": "stream",
          "name": "stdout",
          "text": [
            "-0.39405773064447924 -0.39405773064447924\n"
          ]
        }
      ]
    },
    {
      "cell_type": "code",
      "source": [
        "def degrau(x):\n",
        "  if x < 0:\n",
        "    return 0\n",
        "  if x >= 0:\n",
        "    return 1"
      ],
      "metadata": {
        "id": "4ubPT370yzO2"
      },
      "execution_count": 5,
      "outputs": []
    },
    {
      "cell_type": "code",
      "source": [
        "saida = degrau(resultado1)\n",
        "saida"
      ],
      "metadata": {
        "colab": {
          "base_uri": "https://localhost:8080/"
        },
        "id": "nsgDnv3Yy-4C",
        "outputId": "b051ac01-4608-4c54-e728-da9e4542416f"
      },
      "execution_count": 6,
      "outputs": [
        {
          "output_type": "execute_result",
          "data": {
            "text/plain": [
              "0"
            ]
          },
          "metadata": {},
          "execution_count": 6
        }
      ]
    },
    {
      "cell_type": "code",
      "source": [
        "def sigmoide(x):\n",
        "  return 1 / (1 + np.exp(-x))"
      ],
      "metadata": {
        "id": "SJA9FGD58q-M"
      },
      "execution_count": 7,
      "outputs": []
    },
    {
      "cell_type": "code",
      "source": [
        "def tanh(x):\n",
        "  return (np.exp(x) - np.exp(-x))/(np.exp(x) + np.exp(-x))"
      ],
      "metadata": {
        "id": "5Mgyl8GR8_1s"
      },
      "execution_count": 8,
      "outputs": []
    },
    {
      "cell_type": "code",
      "source": [
        "def relu(x):\n",
        "  if x > 0:\n",
        "    return x\n",
        "  if x <= 0:\n",
        "    return 0"
      ],
      "metadata": {
        "id": "D1eUpRro9Cb8"
      },
      "execution_count": 9,
      "outputs": []
    },
    {
      "cell_type": "code",
      "source": [
        "class Neuronio:\n",
        "  def __init__(self, numero_entradas, taxa_aprendizado=0.1):\n",
        "    self.pesos = np.random.rand(numero_entradas)\n",
        "    self.bias = np.random.rand()\n",
        "    self.taxa_aprendizado = taxa_aprendizado\n",
        "\n",
        "  def degrau(self, x):\n",
        "    if x >= 0:\n",
        "      return 1\n",
        "    if x < 0:\n",
        "      return 0\n",
        "\n",
        "  def treinar(self, entradas, saida_desejada, num_epocas):\n",
        "    for epoca in range(num_epocas):\n",
        "      erro_total = 0\n",
        "      for entrada, saida in zip(entradas, saida_desejada):\n",
        "        # Calcular a saída do neurônio\n",
        "        soma = np.dot(self.pesos, entrada) + self.bias\n",
        "        saida_obtida = self.degrau(soma)\n",
        "\n",
        "        # Calcular o erro\n",
        "        erro = saida - saida_obtida\n",
        "\n",
        "        # Atualizar os pesos e o bias\n",
        "        self.pesos += self.taxa_aprendizado * erro * entrada\n",
        "        self.bias += self.taxa_aprendizado * erro\n",
        "\n",
        "        # Acumular o erro total\n",
        "        erro_total += erro\n",
        "      print(f'Época: {epoca}. Erro: {erro_total}')\n",
        "\n",
        "  def prever(self, entrada):\n",
        "    soma = np.dot(self.pesos, entrada) + self.bias\n",
        "    resultado = self.degrau(soma)\n",
        "    return resultado\n"
      ],
      "metadata": {
        "id": "7B5SEcMlEcw2"
      },
      "execution_count": 10,
      "outputs": []
    },
    {
      "cell_type": "code",
      "source": [
        "# Criar dados de treinamento para a porta AND\n",
        "entradas = np.array([[0,0], [0,1], [1,0], [1,1]])\n",
        "saida_desejada = np.array([0, 0, 0, 1])\n",
        "\n",
        "# Criar uma instância do neurônio\n",
        "neuronio = Neuronio(2)\n",
        "\n",
        "# Treinar esse neurônio\n",
        "neuronio.treinar(entradas, saida_desejada, 100)\n"
      ],
      "metadata": {
        "id": "cCp3oapoDgJL",
        "colab": {
          "base_uri": "https://localhost:8080/"
        },
        "outputId": "f887bda0-7ffb-49c3-bb89-01902cd11844"
      },
      "execution_count": 11,
      "outputs": [
        {
          "output_type": "stream",
          "name": "stdout",
          "text": [
            "Época: 0. Erro: -3\n",
            "Época: 1. Erro: -3\n",
            "Época: 2. Erro: -3\n",
            "Época: 3. Erro: -1\n",
            "Época: 4. Erro: -1\n",
            "Época: 5. Erro: 0\n",
            "Época: 6. Erro: 0\n",
            "Época: 7. Erro: 0\n",
            "Época: 8. Erro: 0\n",
            "Época: 9. Erro: 0\n",
            "Época: 10. Erro: 0\n",
            "Época: 11. Erro: 0\n",
            "Época: 12. Erro: 0\n",
            "Época: 13. Erro: 0\n",
            "Época: 14. Erro: 0\n",
            "Época: 15. Erro: 0\n",
            "Época: 16. Erro: 0\n",
            "Época: 17. Erro: 0\n",
            "Época: 18. Erro: 0\n",
            "Época: 19. Erro: 0\n",
            "Época: 20. Erro: 0\n",
            "Época: 21. Erro: 0\n",
            "Época: 22. Erro: 0\n",
            "Época: 23. Erro: 0\n",
            "Época: 24. Erro: 0\n",
            "Época: 25. Erro: 0\n",
            "Época: 26. Erro: 0\n",
            "Época: 27. Erro: 0\n",
            "Época: 28. Erro: 0\n",
            "Época: 29. Erro: 0\n",
            "Época: 30. Erro: 0\n",
            "Época: 31. Erro: 0\n",
            "Época: 32. Erro: 0\n",
            "Época: 33. Erro: 0\n",
            "Época: 34. Erro: 0\n",
            "Época: 35. Erro: 0\n",
            "Época: 36. Erro: 0\n",
            "Época: 37. Erro: 0\n",
            "Época: 38. Erro: 0\n",
            "Época: 39. Erro: 0\n",
            "Época: 40. Erro: 0\n",
            "Época: 41. Erro: 0\n",
            "Época: 42. Erro: 0\n",
            "Época: 43. Erro: 0\n",
            "Época: 44. Erro: 0\n",
            "Época: 45. Erro: 0\n",
            "Época: 46. Erro: 0\n",
            "Época: 47. Erro: 0\n",
            "Época: 48. Erro: 0\n",
            "Época: 49. Erro: 0\n",
            "Época: 50. Erro: 0\n",
            "Época: 51. Erro: 0\n",
            "Época: 52. Erro: 0\n",
            "Época: 53. Erro: 0\n",
            "Época: 54. Erro: 0\n",
            "Época: 55. Erro: 0\n",
            "Época: 56. Erro: 0\n",
            "Época: 57. Erro: 0\n",
            "Época: 58. Erro: 0\n",
            "Época: 59. Erro: 0\n",
            "Época: 60. Erro: 0\n",
            "Época: 61. Erro: 0\n",
            "Época: 62. Erro: 0\n",
            "Época: 63. Erro: 0\n",
            "Época: 64. Erro: 0\n",
            "Época: 65. Erro: 0\n",
            "Época: 66. Erro: 0\n",
            "Época: 67. Erro: 0\n",
            "Época: 68. Erro: 0\n",
            "Época: 69. Erro: 0\n",
            "Época: 70. Erro: 0\n",
            "Época: 71. Erro: 0\n",
            "Época: 72. Erro: 0\n",
            "Época: 73. Erro: 0\n",
            "Época: 74. Erro: 0\n",
            "Época: 75. Erro: 0\n",
            "Época: 76. Erro: 0\n",
            "Época: 77. Erro: 0\n",
            "Época: 78. Erro: 0\n",
            "Época: 79. Erro: 0\n",
            "Época: 80. Erro: 0\n",
            "Época: 81. Erro: 0\n",
            "Época: 82. Erro: 0\n",
            "Época: 83. Erro: 0\n",
            "Época: 84. Erro: 0\n",
            "Época: 85. Erro: 0\n",
            "Época: 86. Erro: 0\n",
            "Época: 87. Erro: 0\n",
            "Época: 88. Erro: 0\n",
            "Época: 89. Erro: 0\n",
            "Época: 90. Erro: 0\n",
            "Época: 91. Erro: 0\n",
            "Época: 92. Erro: 0\n",
            "Época: 93. Erro: 0\n",
            "Época: 94. Erro: 0\n",
            "Época: 95. Erro: 0\n",
            "Época: 96. Erro: 0\n",
            "Época: 97. Erro: 0\n",
            "Época: 98. Erro: 0\n",
            "Época: 99. Erro: 0\n"
          ]
        }
      ]
    },
    {
      "cell_type": "code",
      "source": [
        "# Testar\n",
        "entrada_teste = np.array([1,1])\n",
        "resultado = neuronio.prever(entrada_teste)\n",
        "resultado"
      ],
      "metadata": {
        "colab": {
          "base_uri": "https://localhost:8080/"
        },
        "id": "fHdeuPIAInEy",
        "outputId": "bbdd4de5-0ea1-4578-8403-afd1058973e3"
      },
      "execution_count": 12,
      "outputs": [
        {
          "output_type": "execute_result",
          "data": {
            "text/plain": [
              "1"
            ]
          },
          "metadata": {},
          "execution_count": 12
        }
      ]
    },
    {
      "cell_type": "code",
      "source": [
        "import matplotlib.pyplot as plt"
      ],
      "metadata": {
        "id": "9ZUyDv5Bnz_p"
      },
      "execution_count": 13,
      "outputs": []
    },
    {
      "cell_type": "code",
      "source": [
        "# Plotar gráfico da reta separadora\n",
        "w1, w2 = neuronio.pesos\n",
        "b = neuronio.bias\n",
        "x = np.linspace(-0.1, 1.1, 2)\n",
        "y = (-w1 * x - b) / w2\n",
        "\n",
        "plt.scatter(entradas[:, 0], entradas[:, 1], c=saida_desejada)\n",
        "plt.plot(x, y, '-r', label='Reta Separadora')\n",
        "plt.xlabel('Entrada 1')\n",
        "plt.ylabel('Entrada 2')\n",
        "plt.legend()\n",
        "plt.show()"
      ],
      "metadata": {
        "colab": {
          "base_uri": "https://localhost:8080/",
          "height": 449
        },
        "id": "PeNgk-PdndBq",
        "outputId": "f3e28e4c-0a78-4e08-8aa8-fc98a46a77a6"
      },
      "execution_count": 14,
      "outputs": [
        {
          "output_type": "display_data",
          "data": {
            "text/plain": [
              "<Figure size 640x480 with 1 Axes>"
            ],
            "image/png": "[encoded data removed]"
          },
          "metadata": {}
        }
      ]
    }
  ]
}