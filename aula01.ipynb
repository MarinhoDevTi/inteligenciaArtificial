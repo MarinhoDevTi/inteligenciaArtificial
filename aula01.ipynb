{
 "cells": [
  {
   "cell_type": "code",
   "execution_count": 4,
   "id": "0cdacdbc",
   "metadata": {},
   "outputs": [],
   "source": [
    "import numpy as np \n",
    "import pandas as pd"
   ]
  },
  {
   "cell_type": "code",
   "execution_count": 2,
   "id": "f00b6488",
   "metadata": {},
   "outputs": [
    {
     "name": "stdout",
     "output_type": "stream",
     "text": [
      "Quarta-feira\n",
      "6\n"
     ]
    }
   ],
   "source": [
    "x = 6 #inteiro\n",
    "y = 7.8 #float ou double\n",
    "z = \"Quarta-feira\"\n",
    "print(z)\n",
    "print(x)"
   ]
  },
  {
   "cell_type": "code",
   "execution_count": 5,
   "id": "07f8803a",
   "metadata": {},
   "outputs": [
    {
     "name": "stdout",
     "output_type": "stream",
     "text": [
      "<class 'list'>\n",
      "Domingo\n",
      "Segunda\n",
      "Terça\n",
      "Quarta\n",
      "Quinta\n",
      "Sexta\n",
      "Sábado\n"
     ]
    }
   ],
   "source": [
    "semanas = [\"Domingo\",\"Segunda\",\"Terça\", \"Quarta\", \"Quinta\", \"Sexta\", \"Sábado\"]\n",
    "print(type(semanas))\n",
    "for dia in semanas:\n",
    "    print(dia)"
   ]
  },
  {
   "cell_type": "code",
   "execution_count": 7,
   "id": "2eb0a4c2",
   "metadata": {},
   "outputs": [
    {
     "name": "stdout",
     "output_type": "stream",
     "text": [
      "6 é par\n"
     ]
    }
   ],
   "source": [
    "x =  6\n",
    "if x % 2 == 0: # Estrutura de controle\n",
    "    print(f'{x} é par')"
   ]
  },
  {
   "cell_type": "code",
   "execution_count": 8,
   "id": "f489cad8",
   "metadata": {},
   "outputs": [],
   "source": [
    "import pandas as pd"
   ]
  },
  {
   "cell_type": "code",
   "execution_count": null,
   "id": "f3b0a636",
   "metadata": {},
   "outputs": [],
   "source": [
    "df = pd.read"
   ]
  }
 ],
 "metadata": {
  "kernelspec": {
   "display_name": "Python 3 (ipykernel)",
   "language": "python",
   "name": "python3"
  },
  "language_info": {
   "codemirror_mode": {
    "name": "ipython",
    "version": 3
   },
   "file_extension": ".py",
   "mimetype": "text/x-python",
   "name": "python",
   "nbconvert_exporter": "python",
   "pygments_lexer": "ipython3",
   "version": "3.10.12"
  }
 },
 "nbformat": 4,
 "nbformat_minor": 5
}
