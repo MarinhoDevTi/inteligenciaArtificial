{
  "cells": [
    {
      "cell_type": "markdown",
      "metadata": {
        "id": "view-in-github",
        "colab_type": "text"
      },
      "source": [
        "<a href=\"https://colab.research.google.com/github/MarinhoDevTi/inteligenciaArtificial/blob/main/lista01.ipynb\" target=\"_parent\"><img src=\"https://colab.research.google.com/assets/colab-badge.svg\" alt=\"Open In Colab\"/></a>"
      ]
    },
    {
      "cell_type": "markdown",
      "id": "lef1yYq_Vl_A",
      "metadata": {
        "id": "lef1yYq_Vl_A"
      },
      "source": [
        "Lista de exercícios - Inteligência Artificial\n",
        "ADS - 4P/6P - 2023/2"
      ]
    },
    {
      "cell_type": "code",
      "execution_count": null,
      "id": "4babed3e",
      "metadata": {
        "id": "4babed3e"
      },
      "outputs": [],
      "source": [
        "# 1. Variáveis e Tipos de Dados:\n",
        "#Leitura e Declaração da variavel idade:\n",
        "idade = int(input(\"digite a sua idade: \"))\n",
        "\n",
        "#Leitura e declaração da variavel nome:\n",
        "nome = input(\"Digite o seu Nome: \")\n",
        "\n",
        "#Saida de dados:\n",
        "print(f\"Olá, {nome}! O dobro da sua idade é {idade * 2}.\")"
      ]
    },
    {
      "cell_type": "code",
      "execution_count": null,
      "id": "PXeWSY97YDPr",
      "metadata": {
        "id": "PXeWSY97YDPr"
      },
      "outputs": [],
      "source": [
        "#2. a. Escreva um programa que determine se um número é par ou ímpar\n",
        "\n",
        "#Solicita ao usuario um numero\n",
        "num = int(input(\"Digite um número: \"))\n",
        "\n",
        "#Verifica se o número é par ou impar\n",
        "if num % 2 == 0:\n",
        "  print(f\"O número {num} é par.\")\n",
        "else:\n",
        "  print(f\"O número {num} é ímpar.\")\n",
        "\n",
        "\n"
      ]
    },
    {
      "cell_type": "code",
      "execution_count": null,
      "id": "f237515f",
      "metadata": {
        "id": "f237515f"
      },
      "outputs": [],
      "source": [
        "#2. b. Crie um loop que exiba os números pares de 1 a 10.\n",
        "for num in range(2,11,2):\n",
        "    print(f\"numero {num}\")\n"
      ]
    },
    {
      "cell_type": "code",
      "source": [],
      "metadata": {
        "id": "zPLYhP1iKlZ-"
      },
      "id": "zPLYhP1iKlZ-",
      "execution_count": null,
      "outputs": []
    },
    {
      "cell_type": "code",
      "source": [
        "#2. c. Utilise uma estrutura condicional para verificar se uma pessoa pode dirigir\n",
        "# com base na idade. Acima de 18 anos, pode dirigir.\n",
        "\n",
        "\n",
        "idade = int(input(\"Digite a sua idade: \"))\n",
        "\n",
        "if idade >= 18:\n",
        "    print(\"Você pode dirigir!\")\n",
        "else:\n",
        "    print(\"Você ainda não pode dirigir.\")\n"
      ],
      "metadata": {
        "colab": {
          "base_uri": "https://localhost:8080/"
        },
        "id": "Cw94jbqfJiB5",
        "outputId": "c045a2df-6155-4c82-d0f0-45fc89d6b764"
      },
      "id": "Cw94jbqfJiB5",
      "execution_count": null,
      "outputs": [
        {
          "output_type": "stream",
          "name": "stdout",
          "text": [
            "Digite a sua idade: 19\n",
            "Você pode dirigir!\n"
          ]
        }
      ]
    },
    {
      "cell_type": "code",
      "source": [
        "# 3. a. Crie uma lista com os números de 1 a 5 e escreva um loop que os exiba.\n",
        "\n",
        "\n",
        "nums = [1, 2, 3, 4, 5]\n",
        "\n",
        "for num in nums:\n",
        "    print(num)\n"
      ],
      "metadata": {
        "colab": {
          "base_uri": "https://localhost:8080/"
        },
        "id": "n5vFpE9mKz1P",
        "outputId": "03860261-516d-4a8e-94b8-0596b0de112e"
      },
      "id": "n5vFpE9mKz1P",
      "execution_count": null,
      "outputs": [
        {
          "output_type": "stream",
          "name": "stdout",
          "text": [
            "1\n",
            "2\n",
            "3\n",
            "4\n",
            "5\n"
          ]
        }
      ]
    },
    {
      "cell_type": "code",
      "source": [
        "# 3. b. Adicione um novo número à lista anterior e atualize o loop para exibir todos os números novamente.\n",
        "\n",
        "nums = [1, 2, 3, 4, 5, 6]\n",
        "\n",
        "for num in nums:\n",
        "  print(num)"
      ],
      "metadata": {
        "colab": {
          "base_uri": "https://localhost:8080/"
        },
        "id": "Y0dGY9yRLRlK",
        "outputId": "91f5155e-7620-4f4e-c5e5-cb59d9d26d8e"
      },
      "id": "Y0dGY9yRLRlK",
      "execution_count": null,
      "outputs": [
        {
          "output_type": "stream",
          "name": "stdout",
          "text": [
            "1\n",
            "2\n",
            "3\n",
            "4\n",
            "5\n",
            "6\n"
          ]
        }
      ]
    },
    {
      "cell_type": "code",
      "source": [
        "# #. c. Escreva um programa que encontre o maior valor em uma lista de números inteiros.\n",
        "\n",
        "def encontrar_maior_valor(lista):\n",
        "    if not lista:\n",
        "        return None\n",
        "\n",
        "    maior = lista[0]\n",
        "\n",
        "    for numero in lista:\n",
        "        if numero > maior:\n",
        "            maior = numero\n",
        "\n",
        "    return maior\n",
        "\n",
        "# Solicita ao usuário o tamanho da lista\n",
        "tamanho = int(input(\"Digite o tamanho da lista: \"))\n",
        "\n",
        "# Solicita ao usuário para inserir os valores na lista\n",
        "numeros = []\n",
        "for i in range(tamanho):\n",
        "    numero = int(input(f\"Digite o valor {i+1}: \"))\n",
        "    numeros.append(numero)\n",
        "\n",
        "# Encontra o maior valor na lista usando a função\n",
        "maior_valor = encontrar_maior_valor(numeros)\n",
        "print(\"O maior valor na lista é:\", maior_valor)\n"
      ],
      "metadata": {
        "id": "LlUYeWyYXf7n"
      },
      "id": "LlUYeWyYXf7n",
      "execution_count": null,
      "outputs": []
    }
  ],
  "metadata": {
    "colab": {
      "provenance": [],
      "include_colab_link": true
    },
    "kernelspec": {
      "display_name": "Python 3 (ipykernel)",
      "language": "python",
      "name": "python3"
    },
    "language_info": {
      "codemirror_mode": {
        "name": "ipython",
        "version": 3
      },
      "file_extension": ".py",
      "mimetype": "text/x-python",
      "name": "python",
      "nbconvert_exporter": "python",
      "pygments_lexer": "ipython3",
      "version": "3.10.12"
    }
  },
  "nbformat": 4,
  "nbformat_minor": 5
}