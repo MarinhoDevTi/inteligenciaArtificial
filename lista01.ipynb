{
  "cells": [
    {
      "cell_type": "markdown",
      "metadata": {
        "colab_type": "text",
        "id": "view-in-github"
      },
      "source": [
        "<a href=\"https://colab.research.google.com/github/MarinhoDevTi/inteligenciaArtificial/blob/main/lista01.ipynb\" target=\"_parent\"><img src=\"https://colab.research.google.com/assets/colab-badge.svg\" alt=\"Open In Colab\"/></a>"
      ]
    },
    {
      "cell_type": "markdown",
      "id": "lef1yYq_Vl_A",
      "metadata": {
        "id": "lef1yYq_Vl_A"
      },
      "source": [
        "Lista de exercícios - Inteligência Artificial\n",
        "ADS - 4P/6P - 2023/2"
      ]
    },
    {
      "cell_type": "code",
      "execution_count": null,
      "id": "4babed3e",
      "metadata": {
        "colab": {
          "base_uri": "https://localhost:8080/"
        },
        "id": "4babed3e",
        "outputId": "318b5066-abbd-404e-a400-77c1853df37a"
      },
      "outputs": [],
      "source": [
        "# 1. Variáveis e Tipos de Dados:\n",
        "#Leitura e Declaração da variavel idade:\n",
        "idade = int(input(\"digite a sua idade: \"))\n",
        "\n",
        "#Leitura e declaração da variavel nome:\n",
        "nome = input(\"Digite o seu Nome: \")\n",
        "\n",
        "#Saida de dados:\n",
        "print(f\"Olá, {nome}! O dobro da sua idade é {idade * 2}.\")"
      ]
    },
    {
      "cell_type": "code",
      "execution_count": null,
      "id": "PXeWSY97YDPr",
      "metadata": {
        "id": "PXeWSY97YDPr"
      },
      "outputs": [
        {
          "ename": "ValueError",
          "evalue": "invalid literal for int() with base 10: ''",
          "output_type": "error",
          "traceback": [
            "\u001b[0;31m---------------------------------------------------------------------------\u001b[0m",
            "\u001b[0;31mValueError\u001b[0m                                Traceback (most recent call last)",
            "Cell \u001b[0;32mIn[1], line 4\u001b[0m\n\u001b[1;32m      1\u001b[0m \u001b[39m#2. a. Escreva um programa que determine se um número é par ou ímpar\u001b[39;00m\n\u001b[1;32m      2\u001b[0m \n\u001b[1;32m      3\u001b[0m \u001b[39m#Solicita ao usuario um numero\u001b[39;00m\n\u001b[0;32m----> 4\u001b[0m num \u001b[39m=\u001b[39m \u001b[39mint\u001b[39;49m(\u001b[39minput\u001b[39;49m(\u001b[39m\"\u001b[39;49m\u001b[39mDigite um número: \u001b[39;49m\u001b[39m\"\u001b[39;49m))\n\u001b[1;32m      6\u001b[0m \u001b[39m#Verifica se o número é par ou impar\u001b[39;00m\n\u001b[1;32m      7\u001b[0m \u001b[39mif\u001b[39;00m num \u001b[39m%\u001b[39m \u001b[39m2\u001b[39m \u001b[39m==\u001b[39m \u001b[39m0\u001b[39m:\n",
            "\u001b[0;31mValueError\u001b[0m: invalid literal for int() with base 10: ''"
          ]
        }
      ],
      "source": [
        "#2. a. Escreva um programa que determine se um número é par ou ímpar\n",
        "\n",
        "#Solicita ao usuario um numero\n",
        "num = int(input(\"Digite um número: \"))\n",
        "\n",
        "#Verifica se o número é par ou impar\n",
        "if num % 2 == 0:\n",
        "    print(f\"O número {num} é par.\")\n",
        "else:\n",
        "    print(f\"O número {num} é ímpar.\")\n",
        "    \n",
        "\n",
        "\n"
      ]
    }
  ],
  "metadata": {
    "colab": {
      "include_colab_link": true,
      "provenance": []
    },
    "kernelspec": {
      "display_name": "Python 3 (ipykernel)",
      "language": "python",
      "name": "python3"
    },
    "language_info": {
      "codemirror_mode": {
        "name": "ipython",
        "version": 3
      },
      "file_extension": ".py",
      "mimetype": "text/x-python",
      "name": "python",
      "nbconvert_exporter": "python",
      "pygments_lexer": "ipython3",
      "version": "3.10.12"
    }
  },
  "nbformat": 4,
  "nbformat_minor": 5
}
