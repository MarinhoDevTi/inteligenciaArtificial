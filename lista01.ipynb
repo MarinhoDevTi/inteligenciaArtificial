{
  "cells": [
    {
      "cell_type": "markdown",
      "metadata": {
        "id": "view-in-github",
        "colab_type": "text"
      },
      "source": [
        "<a href=\"https://colab.research.google.com/github/MarinhoDevTi/inteligenciaArtificial/blob/main/lista01.ipynb\" target=\"_parent\"><img src=\"https://colab.research.google.com/assets/colab-badge.svg\" alt=\"Open In Colab\"/></a>"
      ]
    },
    {
      "cell_type": "markdown",
      "source": [
        "Lista de exercícios - Inteligência Artificial\n",
        "ADS - 4P/6P - 2023/2"
      ],
      "metadata": {
        "id": "lef1yYq_Vl_A"
      },
      "id": "lef1yYq_Vl_A"
    },
    {
      "cell_type": "code",
      "execution_count": null,
      "id": "4babed3e",
      "metadata": {
        "id": "4babed3e"
      },
      "outputs": [],
      "source": [
        "# 1. Variáveis e Tipos de Dados:\n",
        "#Leitura e Declaração da variavel idade:\n",
        "idade = int(input(\"digite a sua idade: \"))\n",
        "\n",
        "#Leitura e declaração da variavel nome:\n",
        "nome = input(\"Digite o seu Nome: \")\n",
        "\n",
        "#Saida de dados:\n",
        "print(f\"Olá, {nome}! O dobro da sua idade é {idade * 2}.\")"
      ]
    },
    {
      "cell_type": "code",
      "source": [
        "#2. a. Escreva um programa que determine se um número é par ou ímpar\n",
        "\n",
        "#Solicita ao usuario um numero\n",
        "num = int(input(\"Digite um número: \"))\n",
        "\n",
        "#Verifica se o número é par ou impar\n",
        "if num % 2 == 0:\n",
        "  print(f\"O número {num} é par.\")\n",
        "else:\n",
        "  print(f\"O número {num} é ímpar.\")\n",
        "\n",
        "\n"
      ],
      "metadata": {
        "id": "PXeWSY97YDPr"
      },
      "id": "PXeWSY97YDPr",
      "execution_count": null,
      "outputs": []
    }
  ],
  "metadata": {
    "kernelspec": {
      "display_name": "Python 3 (ipykernel)",
      "language": "python",
      "name": "python3"
    },
    "language_info": {
      "codemirror_mode": {
        "name": "ipython",
        "version": 3
      },
      "file_extension": ".py",
      "mimetype": "text/x-python",
      "name": "python",
      "nbconvert_exporter": "python",
      "pygments_lexer": "ipython3",
      "version": "3.10.12"
    },
    "colab": {
      "provenance": [],
      "include_colab_link": true
    }
  },
  "nbformat": 4,
  "nbformat_minor": 5
}